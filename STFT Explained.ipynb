{
 "cells": [
  {
   "cell_type": "markdown",
   "id": "cac77be3",
   "metadata": {},
   "source": [
    "<font size = 8><b>SHORT TIME FOURIER TRANSFORM </font></b>\n",
    "\n",
    "STFT runs a DFT on short chunks (frames) of signal.\n",
    "\n",
    "The result is an array with 2 dimensions (#frequency bins, #samples)\n"
   ]
  },
  {
   "cell_type": "code",
   "execution_count": 21,
   "id": "b8ae551c",
   "metadata": {},
   "outputs": [
    {
     "name": "stdout",
     "output_type": "stream",
     "text": [
      "501.0\n",
      "Each frequency bin contains 44.01197604790419Hz \n",
      "\n",
      "19.0\n",
      "\n",
      "The STFT array is (501.0, 19.0)\n"
     ]
    }
   ],
   "source": [
    "#frequency bins = framesize/2+1\n",
    "#samples = samples-framesize/hopsize+1\n",
    "\n",
    "#example\n",
    "\n",
    "signal = 10000 #of samples\n",
    "frame_size = 1000\n",
    "hop_size = 500\n",
    "sr = 22050\n",
    "\n",
    "freq_bins = frame_size/2+1 #frequency bins are frequency ranges in which the sr gets divided into\n",
    "print(freq_bins)\n",
    "size_freq_bins = sr /freq_bins \n",
    "print(f\"Each frequency bin contains {size_freq_bins}Hz \")\n",
    "print()\n",
    "samples = (signal-frame_size)/hop_size+1\n",
    "print(samples)\n",
    "print()\n",
    "print(f\"The STFT array is {freq_bins, samples}\")\n"
   ]
  },
  {
   "cell_type": "markdown",
   "id": "946e019e",
   "metadata": {},
   "source": [
    "<font size = 4><b>PARAMETERS</font></b>\n",
    "\n",
    "<b>FRAME SIZE</b> = 264, 512, 1024 (always power of 2 for computational efficacy)\n",
    "\n",
    "Time / Frequency trade off:\n",
    "\n",
    "when frame size goes UP: higher freq resolution, lower time resolution\n",
    "when frame size goes DOWN: lower freq resolution, higher time resolution\n",
    "\n",
    "The frame size choice depends on the type of task for which the ML is trained.\n",
    "Z.B. For on set detection you need a higher time resolution. Freq is not so important.\n",
    "\n",
    "<b>HOP SIZE</b> = 264, 512, 1024 (also power of 2 for computational efficacy)\n",
    "It can also be define as 1/4K, 1/2K (K being the frame size)\n",
    "\n",
    "<b>WINDOWING FUNCTION</b> = Hann windows"
   ]
  },
  {
   "cell_type": "markdown",
   "id": "c4006b7d",
   "metadata": {},
   "source": [
    "<b>HOP SIZE</b> = 264, 512, 1024 (also power of 2 for computational efficacy)"
   ]
  },
  {
   "cell_type": "code",
   "execution_count": 22,
   "id": "ab816338",
   "metadata": {},
   "outputs": [
    {
     "data": {
      "text/plain": [
       "2.2675736961451248e-05"
      ]
     },
     "execution_count": 22,
     "metadata": {},
     "output_type": "execute_result"
    }
   ],
   "source": [
    "1/44100"
   ]
  },
  {
   "cell_type": "code",
   "execution_count": null,
   "id": "5a30f41c",
   "metadata": {},
   "outputs": [],
   "source": []
  }
 ],
 "metadata": {
  "kernelspec": {
   "display_name": "Python 3 (ipykernel)",
   "language": "python",
   "name": "python3"
  },
  "language_info": {
   "codemirror_mode": {
    "name": "ipython",
    "version": 3
   },
   "file_extension": ".py",
   "mimetype": "text/x-python",
   "name": "python",
   "nbconvert_exporter": "python",
   "pygments_lexer": "ipython3",
   "version": "3.10.7"
  }
 },
 "nbformat": 4,
 "nbformat_minor": 5
}
