{
  "nbformat": 4,
  "nbformat_minor": 0,
  "metadata": {
    "colab": {
      "provenance": [],
      "authorship_tag": "ABX9TyNsCtzrKFbi1XhnTYRo7Xnt",
      "include_colab_link": true
    },
    "kernelspec": {
      "name": "python3",
      "display_name": "Python 3"
    },
    "language_info": {
      "name": "python"
    },
    "widgets": {
      "application/vnd.jupyter.widget-state+json": {
        "e0aad968dee4423ca3c50367930673c0": {
          "model_module": "@jupyter-widgets/controls",
          "model_name": "ButtonModel",
          "model_module_version": "1.5.0",
          "state": {
            "_dom_classes": [],
            "_model_module": "@jupyter-widgets/controls",
            "_model_module_version": "1.5.0",
            "_model_name": "ButtonModel",
            "_view_count": null,
            "_view_module": "@jupyter-widgets/controls",
            "_view_module_version": "1.5.0",
            "_view_name": "ButtonView",
            "button_style": "",
            "description": "Classify",
            "disabled": false,
            "icon": "",
            "layout": "IPY_MODEL_553d730332ae4410846160074384203a",
            "style": "IPY_MODEL_affcfcc42eae403d8e25d1b9f6e97c65",
            "tooltip": ""
          }
        },
        "553d730332ae4410846160074384203a": {
          "model_module": "@jupyter-widgets/base",
          "model_name": "LayoutModel",
          "model_module_version": "1.2.0",
          "state": {
            "_model_module": "@jupyter-widgets/base",
            "_model_module_version": "1.2.0",
            "_model_name": "LayoutModel",
            "_view_count": null,
            "_view_module": "@jupyter-widgets/base",
            "_view_module_version": "1.2.0",
            "_view_name": "LayoutView",
            "align_content": null,
            "align_items": null,
            "align_self": null,
            "border": null,
            "bottom": null,
            "display": null,
            "flex": null,
            "flex_flow": null,
            "grid_area": null,
            "grid_auto_columns": null,
            "grid_auto_flow": null,
            "grid_auto_rows": null,
            "grid_column": null,
            "grid_gap": null,
            "grid_row": null,
            "grid_template_areas": null,
            "grid_template_columns": null,
            "grid_template_rows": null,
            "height": null,
            "justify_content": null,
            "justify_items": null,
            "left": null,
            "margin": null,
            "max_height": null,
            "max_width": null,
            "min_height": null,
            "min_width": null,
            "object_fit": null,
            "object_position": null,
            "order": null,
            "overflow": null,
            "overflow_x": null,
            "overflow_y": null,
            "padding": null,
            "right": null,
            "top": null,
            "visibility": null,
            "width": null
          }
        },
        "affcfcc42eae403d8e25d1b9f6e97c65": {
          "model_module": "@jupyter-widgets/controls",
          "model_name": "ButtonStyleModel",
          "model_module_version": "1.5.0",
          "state": {
            "_model_module": "@jupyter-widgets/controls",
            "_model_module_version": "1.5.0",
            "_model_name": "ButtonStyleModel",
            "_view_count": null,
            "_view_module": "@jupyter-widgets/base",
            "_view_module_version": "1.2.0",
            "_view_name": "StyleView",
            "button_color": null,
            "font_weight": ""
          }
        },
        "15ee99a885d3414eb4ce3bef1a0538cf": {
          "model_module": "@jupyter-widgets/controls",
          "model_name": "VBoxModel",
          "model_module_version": "1.5.0",
          "state": {
            "_dom_classes": [],
            "_model_module": "@jupyter-widgets/controls",
            "_model_module_version": "1.5.0",
            "_model_name": "VBoxModel",
            "_view_count": null,
            "_view_module": "@jupyter-widgets/controls",
            "_view_module_version": "1.5.0",
            "_view_name": "VBoxView",
            "box_style": "",
            "children": [
              "IPY_MODEL_d3aea3ed4b354cc0b945a0e939585a1f",
              "IPY_MODEL_21a8620741b9475687abdfbc5fb06784",
              "IPY_MODEL_e0aad968dee4423ca3c50367930673c0",
              "IPY_MODEL_8744937d524b496980697cbfd37f01c7",
              "IPY_MODEL_949df5e1ddd94381a3426bfd25c87b01"
            ],
            "layout": "IPY_MODEL_fa8a03eef3c64bfab81035694c859732"
          }
        },
        "d3aea3ed4b354cc0b945a0e939585a1f": {
          "model_module": "@jupyter-widgets/controls",
          "model_name": "LabelModel",
          "model_module_version": "1.5.0",
          "state": {
            "_dom_classes": [],
            "_model_module": "@jupyter-widgets/controls",
            "_model_module_version": "1.5.0",
            "_model_name": "LabelModel",
            "_view_count": null,
            "_view_module": "@jupyter-widgets/controls",
            "_view_module_version": "1.5.0",
            "_view_name": "LabelView",
            "description": "",
            "description_tooltip": null,
            "layout": "IPY_MODEL_3367106bfcde491fb8b7d1b4e903b0e7",
            "placeholder": "​",
            "style": "IPY_MODEL_a62ffe9b406e47759672481a947b8905",
            "value": "Select your bear!"
          }
        },
        "21a8620741b9475687abdfbc5fb06784": {
          "model_module": "@jupyter-widgets/controls",
          "model_name": "FileUploadModel",
          "model_module_version": "1.5.0",
          "state": {
            "_counter": 1,
            "_dom_classes": [],
            "_model_module": "@jupyter-widgets/controls",
            "_model_module_version": "1.5.0",
            "_model_name": "FileUploadModel",
            "_view_count": null,
            "_view_module": "@jupyter-widgets/controls",
            "_view_module_version": "1.5.0",
            "_view_name": "FileUploadView",
            "accept": "",
            "button_style": "",
            "data": [
              null
            ],
            "description": "Upload",
            "description_tooltip": null,
            "disabled": false,
            "error": "",
            "icon": "upload",
            "layout": "IPY_MODEL_c63c92a9ef0e419ebb26d276696a9eb0",
            "metadata": [
              {
                "name": "black.jpg",
                "type": "image/jpeg",
                "size": 31030,
                "lastModified": 1736150103925
              }
            ],
            "multiple": false,
            "style": "IPY_MODEL_5dd52879a6ed4791a8017744c41ae5a6"
          }
        },
        "8744937d524b496980697cbfd37f01c7": {
          "model_module": "@jupyter-widgets/output",
          "model_name": "OutputModel",
          "model_module_version": "1.0.0",
          "state": {
            "_dom_classes": [],
            "_model_module": "@jupyter-widgets/output",
            "_model_module_version": "1.0.0",
            "_model_name": "OutputModel",
            "_view_count": null,
            "_view_module": "@jupyter-widgets/output",
            "_view_module_version": "1.0.0",
            "_view_name": "OutputView",
            "layout": "IPY_MODEL_89e17cbbda98426082e790a4dd9e5570",
            "msg_id": "",
            "outputs": [
              {
                "output_type": "display_data",
                "data": {
                  "text/plain": "<PIL.Image.Image image mode=RGB size=94x128>",
                  "image/png": "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\n",
                  "image/jpeg": "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\n"
                },
                "metadata": {}
              }
            ]
          }
        },
        "949df5e1ddd94381a3426bfd25c87b01": {
          "model_module": "@jupyter-widgets/controls",
          "model_name": "LabelModel",
          "model_module_version": "1.5.0",
          "state": {
            "_dom_classes": [],
            "_model_module": "@jupyter-widgets/controls",
            "_model_module_version": "1.5.0",
            "_model_name": "LabelModel",
            "_view_count": null,
            "_view_module": "@jupyter-widgets/controls",
            "_view_module_version": "1.5.0",
            "_view_name": "LabelView",
            "description": "",
            "description_tooltip": null,
            "layout": "IPY_MODEL_c509fc1dc2784425837fa2aa95fe7881",
            "placeholder": "​",
            "style": "IPY_MODEL_cf2cd8c7c2884935a514eef2681d7e21",
            "value": "Prediction: black bear; Probability: 0.9997"
          }
        },
        "fa8a03eef3c64bfab81035694c859732": {
          "model_module": "@jupyter-widgets/base",
          "model_name": "LayoutModel",
          "model_module_version": "1.2.0",
          "state": {
            "_model_module": "@jupyter-widgets/base",
            "_model_module_version": "1.2.0",
            "_model_name": "LayoutModel",
            "_view_count": null,
            "_view_module": "@jupyter-widgets/base",
            "_view_module_version": "1.2.0",
            "_view_name": "LayoutView",
            "align_content": null,
            "align_items": null,
            "align_self": null,
            "border": null,
            "bottom": null,
            "display": null,
            "flex": null,
            "flex_flow": null,
            "grid_area": null,
            "grid_auto_columns": null,
            "grid_auto_flow": null,
            "grid_auto_rows": null,
            "grid_column": null,
            "grid_gap": null,
            "grid_row": null,
            "grid_template_areas": null,
            "grid_template_columns": null,
            "grid_template_rows": null,
            "height": null,
            "justify_content": null,
            "justify_items": null,
            "left": null,
            "margin": null,
            "max_height": null,
            "max_width": null,
            "min_height": null,
            "min_width": null,
            "object_fit": null,
            "object_position": null,
            "order": null,
            "overflow": null,
            "overflow_x": null,
            "overflow_y": null,
            "padding": null,
            "right": null,
            "top": null,
            "visibility": null,
            "width": null
          }
        },
        "3367106bfcde491fb8b7d1b4e903b0e7": {
          "model_module": "@jupyter-widgets/base",
          "model_name": "LayoutModel",
          "model_module_version": "1.2.0",
          "state": {
            "_model_module": "@jupyter-widgets/base",
            "_model_module_version": "1.2.0",
            "_model_name": "LayoutModel",
            "_view_count": null,
            "_view_module": "@jupyter-widgets/base",
            "_view_module_version": "1.2.0",
            "_view_name": "LayoutView",
            "align_content": null,
            "align_items": null,
            "align_self": null,
            "border": null,
            "bottom": null,
            "display": null,
            "flex": null,
            "flex_flow": null,
            "grid_area": null,
            "grid_auto_columns": null,
            "grid_auto_flow": null,
            "grid_auto_rows": null,
            "grid_column": null,
            "grid_gap": null,
            "grid_row": null,
            "grid_template_areas": null,
            "grid_template_columns": null,
            "grid_template_rows": null,
            "height": null,
            "justify_content": null,
            "justify_items": null,
            "left": null,
            "margin": null,
            "max_height": null,
            "max_width": null,
            "min_height": null,
            "min_width": null,
            "object_fit": null,
            "object_position": null,
            "order": null,
            "overflow": null,
            "overflow_x": null,
            "overflow_y": null,
            "padding": null,
            "right": null,
            "top": null,
            "visibility": null,
            "width": null
          }
        },
        "a62ffe9b406e47759672481a947b8905": {
          "model_module": "@jupyter-widgets/controls",
          "model_name": "DescriptionStyleModel",
          "model_module_version": "1.5.0",
          "state": {
            "_model_module": "@jupyter-widgets/controls",
            "_model_module_version": "1.5.0",
            "_model_name": "DescriptionStyleModel",
            "_view_count": null,
            "_view_module": "@jupyter-widgets/base",
            "_view_module_version": "1.2.0",
            "_view_name": "StyleView",
            "description_width": ""
          }
        },
        "c63c92a9ef0e419ebb26d276696a9eb0": {
          "model_module": "@jupyter-widgets/base",
          "model_name": "LayoutModel",
          "model_module_version": "1.2.0",
          "state": {
            "_model_module": "@jupyter-widgets/base",
            "_model_module_version": "1.2.0",
            "_model_name": "LayoutModel",
            "_view_count": null,
            "_view_module": "@jupyter-widgets/base",
            "_view_module_version": "1.2.0",
            "_view_name": "LayoutView",
            "align_content": null,
            "align_items": null,
            "align_self": null,
            "border": null,
            "bottom": null,
            "display": null,
            "flex": null,
            "flex_flow": null,
            "grid_area": null,
            "grid_auto_columns": null,
            "grid_auto_flow": null,
            "grid_auto_rows": null,
            "grid_column": null,
            "grid_gap": null,
            "grid_row": null,
            "grid_template_areas": null,
            "grid_template_columns": null,
            "grid_template_rows": null,
            "height": null,
            "justify_content": null,
            "justify_items": null,
            "left": null,
            "margin": null,
            "max_height": null,
            "max_width": null,
            "min_height": null,
            "min_width": null,
            "object_fit": null,
            "object_position": null,
            "order": null,
            "overflow": null,
            "overflow_x": null,
            "overflow_y": null,
            "padding": null,
            "right": null,
            "top": null,
            "visibility": null,
            "width": null
          }
        },
        "5dd52879a6ed4791a8017744c41ae5a6": {
          "model_module": "@jupyter-widgets/controls",
          "model_name": "ButtonStyleModel",
          "model_module_version": "1.5.0",
          "state": {
            "_model_module": "@jupyter-widgets/controls",
            "_model_module_version": "1.5.0",
            "_model_name": "ButtonStyleModel",
            "_view_count": null,
            "_view_module": "@jupyter-widgets/base",
            "_view_module_version": "1.2.0",
            "_view_name": "StyleView",
            "button_color": null,
            "font_weight": ""
          }
        },
        "c509fc1dc2784425837fa2aa95fe7881": {
          "model_module": "@jupyter-widgets/base",
          "model_name": "LayoutModel",
          "model_module_version": "1.2.0",
          "state": {
            "_model_module": "@jupyter-widgets/base",
            "_model_module_version": "1.2.0",
            "_model_name": "LayoutModel",
            "_view_count": null,
            "_view_module": "@jupyter-widgets/base",
            "_view_module_version": "1.2.0",
            "_view_name": "LayoutView",
            "align_content": null,
            "align_items": null,
            "align_self": null,
            "border": null,
            "bottom": null,
            "display": null,
            "flex": null,
            "flex_flow": null,
            "grid_area": null,
            "grid_auto_columns": null,
            "grid_auto_flow": null,
            "grid_auto_rows": null,
            "grid_column": null,
            "grid_gap": null,
            "grid_row": null,
            "grid_template_areas": null,
            "grid_template_columns": null,
            "grid_template_rows": null,
            "height": null,
            "justify_content": null,
            "justify_items": null,
            "left": null,
            "margin": null,
            "max_height": null,
            "max_width": null,
            "min_height": null,
            "min_width": null,
            "object_fit": null,
            "object_position": null,
            "order": null,
            "overflow": null,
            "overflow_x": null,
            "overflow_y": null,
            "padding": null,
            "right": null,
            "top": null,
            "visibility": null,
            "width": null
          }
        },
        "cf2cd8c7c2884935a514eef2681d7e21": {
          "model_module": "@jupyter-widgets/controls",
          "model_name": "DescriptionStyleModel",
          "model_module_version": "1.5.0",
          "state": {
            "_model_module": "@jupyter-widgets/controls",
            "_model_module_version": "1.5.0",
            "_model_name": "DescriptionStyleModel",
            "_view_count": null,
            "_view_module": "@jupyter-widgets/base",
            "_view_module_version": "1.2.0",
            "_view_name": "StyleView",
            "description_width": ""
          }
        },
        "89e17cbbda98426082e790a4dd9e5570": {
          "model_module": "@jupyter-widgets/base",
          "model_name": "LayoutModel",
          "model_module_version": "1.2.0",
          "state": {
            "_model_module": "@jupyter-widgets/base",
            "_model_module_version": "1.2.0",
            "_model_name": "LayoutModel",
            "_view_count": null,
            "_view_module": "@jupyter-widgets/base",
            "_view_module_version": "1.2.0",
            "_view_name": "LayoutView",
            "align_content": null,
            "align_items": null,
            "align_self": null,
            "border": null,
            "bottom": null,
            "display": null,
            "flex": null,
            "flex_flow": null,
            "grid_area": null,
            "grid_auto_columns": null,
            "grid_auto_flow": null,
            "grid_auto_rows": null,
            "grid_column": null,
            "grid_gap": null,
            "grid_row": null,
            "grid_template_areas": null,
            "grid_template_columns": null,
            "grid_template_rows": null,
            "height": null,
            "justify_content": null,
            "justify_items": null,
            "left": null,
            "margin": null,
            "max_height": null,
            "max_width": null,
            "min_height": null,
            "min_width": null,
            "object_fit": null,
            "object_position": null,
            "order": null,
            "overflow": null,
            "overflow_x": null,
            "overflow_y": null,
            "padding": null,
            "right": null,
            "top": null,
            "visibility": null,
            "width": null
          }
        }
      }
    }
  },
  "cells": [
    {
      "cell_type": "markdown",
      "metadata": {
        "id": "view-in-github",
        "colab_type": "text"
      },
      "source": [
        "<a href=\"https://colab.research.google.com/github/crismartinezco/AcousticFeatureExtraction/blob/main/Deployment_of_Bear_Classifier.ipynb\" target=\"_parent\"><img src=\"https://colab.research.google.com/assets/colab-badge.svg\" alt=\"Open In Colab\"/></a>"
      ]
    },
    {
      "cell_type": "code",
      "execution_count": 8,
      "metadata": {
        "colab": {
          "base_uri": "https://localhost:8080/"
        },
        "id": "SSRV9fNipS-3",
        "outputId": "0d7dea3a-5d3c-4e1e-dbbf-cf3f689dd0c5"
      },
      "outputs": [
        {
          "output_type": "stream",
          "name": "stdout",
          "text": [
            "Requirement already satisfied: voila in /usr/local/lib/python3.10/dist-packages (0.5.8)\n",
            "Requirement already satisfied: jupyter-client<9,>=7.4.4 in /usr/local/lib/python3.10/dist-packages (from voila) (8.6.3)\n",
            "Requirement already satisfied: jupyter-core>=4.11.0 in /usr/local/lib/python3.10/dist-packages (from voila) (5.7.2)\n",
            "Requirement already satisfied: jupyter-server<3,>=1.18 in /usr/local/lib/python3.10/dist-packages (from voila) (1.24.0)\n",
            "Requirement already satisfied: jupyterlab-server<3,>=2.3.0 in /usr/local/lib/python3.10/dist-packages (from voila) (2.27.3)\n",
            "Requirement already satisfied: nbclient>=0.4.0 in /usr/local/lib/python3.10/dist-packages (from voila) (0.10.1)\n",
            "Requirement already satisfied: nbconvert<8,>=6.4.5 in /usr/local/lib/python3.10/dist-packages (from voila) (7.16.4)\n",
            "Requirement already satisfied: traitlets<6,>=5.0.3 in /usr/local/lib/python3.10/dist-packages (from voila) (5.7.1)\n",
            "Requirement already satisfied: websockets>=9.0 in /usr/local/lib/python3.10/dist-packages (from voila) (14.1)\n",
            "Requirement already satisfied: python-dateutil>=2.8.2 in /usr/local/lib/python3.10/dist-packages (from jupyter-client<9,>=7.4.4->voila) (2.8.2)\n",
            "Requirement already satisfied: pyzmq>=23.0 in /usr/local/lib/python3.10/dist-packages (from jupyter-client<9,>=7.4.4->voila) (24.0.1)\n",
            "Requirement already satisfied: tornado>=6.2 in /usr/local/lib/python3.10/dist-packages (from jupyter-client<9,>=7.4.4->voila) (6.3.3)\n",
            "Requirement already satisfied: platformdirs>=2.5 in /usr/local/lib/python3.10/dist-packages (from jupyter-core>=4.11.0->voila) (4.3.6)\n",
            "Requirement already satisfied: anyio<4,>=3.1.0 in /usr/local/lib/python3.10/dist-packages (from jupyter-server<3,>=1.18->voila) (3.7.1)\n",
            "Requirement already satisfied: argon2-cffi in /usr/local/lib/python3.10/dist-packages (from jupyter-server<3,>=1.18->voila) (23.1.0)\n",
            "Requirement already satisfied: jinja2 in /usr/local/lib/python3.10/dist-packages (from jupyter-server<3,>=1.18->voila) (3.1.4)\n",
            "Requirement already satisfied: nbformat>=5.2.0 in /usr/local/lib/python3.10/dist-packages (from jupyter-server<3,>=1.18->voila) (5.10.4)\n",
            "Requirement already satisfied: packaging in /usr/local/lib/python3.10/dist-packages (from jupyter-server<3,>=1.18->voila) (24.2)\n",
            "Requirement already satisfied: prometheus-client in /usr/local/lib/python3.10/dist-packages (from jupyter-server<3,>=1.18->voila) (0.21.1)\n",
            "Requirement already satisfied: Send2Trash in /usr/local/lib/python3.10/dist-packages (from jupyter-server<3,>=1.18->voila) (1.8.3)\n",
            "Requirement already satisfied: terminado>=0.8.3 in /usr/local/lib/python3.10/dist-packages (from jupyter-server<3,>=1.18->voila) (0.18.1)\n",
            "Requirement already satisfied: websocket-client in /usr/local/lib/python3.10/dist-packages (from jupyter-server<3,>=1.18->voila) (1.8.0)\n",
            "Requirement already satisfied: babel>=2.10 in /usr/local/lib/python3.10/dist-packages (from jupyterlab-server<3,>=2.3.0->voila) (2.16.0)\n",
            "Requirement already satisfied: json5>=0.9.0 in /usr/local/lib/python3.10/dist-packages (from jupyterlab-server<3,>=2.3.0->voila) (0.10.0)\n",
            "Requirement already satisfied: jsonschema>=4.18.0 in /usr/local/lib/python3.10/dist-packages (from jupyterlab-server<3,>=2.3.0->voila) (4.23.0)\n",
            "Requirement already satisfied: requests>=2.31 in /usr/local/lib/python3.10/dist-packages (from jupyterlab-server<3,>=2.3.0->voila) (2.32.3)\n",
            "Requirement already satisfied: beautifulsoup4 in /usr/local/lib/python3.10/dist-packages (from nbconvert<8,>=6.4.5->voila) (4.12.3)\n",
            "Requirement already satisfied: bleach!=5.0.0 in /usr/local/lib/python3.10/dist-packages (from nbconvert<8,>=6.4.5->voila) (6.2.0)\n",
            "Requirement already satisfied: defusedxml in /usr/local/lib/python3.10/dist-packages (from nbconvert<8,>=6.4.5->voila) (0.7.1)\n",
            "Requirement already satisfied: jupyterlab-pygments in /usr/local/lib/python3.10/dist-packages (from nbconvert<8,>=6.4.5->voila) (0.3.0)\n",
            "Requirement already satisfied: markupsafe>=2.0 in /usr/local/lib/python3.10/dist-packages (from nbconvert<8,>=6.4.5->voila) (3.0.2)\n",
            "Requirement already satisfied: mistune<4,>=2.0.3 in /usr/local/lib/python3.10/dist-packages (from nbconvert<8,>=6.4.5->voila) (3.0.2)\n",
            "Requirement already satisfied: pandocfilters>=1.4.1 in /usr/local/lib/python3.10/dist-packages (from nbconvert<8,>=6.4.5->voila) (1.5.1)\n",
            "Requirement already satisfied: pygments>=2.4.1 in /usr/local/lib/python3.10/dist-packages (from nbconvert<8,>=6.4.5->voila) (2.18.0)\n",
            "Requirement already satisfied: tinycss2 in /usr/local/lib/python3.10/dist-packages (from nbconvert<8,>=6.4.5->voila) (1.4.0)\n",
            "Requirement already satisfied: idna>=2.8 in /usr/local/lib/python3.10/dist-packages (from anyio<4,>=3.1.0->jupyter-server<3,>=1.18->voila) (3.10)\n",
            "Requirement already satisfied: sniffio>=1.1 in /usr/local/lib/python3.10/dist-packages (from anyio<4,>=3.1.0->jupyter-server<3,>=1.18->voila) (1.3.1)\n",
            "Requirement already satisfied: exceptiongroup in /usr/local/lib/python3.10/dist-packages (from anyio<4,>=3.1.0->jupyter-server<3,>=1.18->voila) (1.2.2)\n",
            "Requirement already satisfied: webencodings in /usr/local/lib/python3.10/dist-packages (from bleach!=5.0.0->nbconvert<8,>=6.4.5->voila) (0.5.1)\n",
            "Requirement already satisfied: attrs>=22.2.0 in /usr/local/lib/python3.10/dist-packages (from jsonschema>=4.18.0->jupyterlab-server<3,>=2.3.0->voila) (24.3.0)\n",
            "Requirement already satisfied: jsonschema-specifications>=2023.03.6 in /usr/local/lib/python3.10/dist-packages (from jsonschema>=4.18.0->jupyterlab-server<3,>=2.3.0->voila) (2024.10.1)\n",
            "Requirement already satisfied: referencing>=0.28.4 in /usr/local/lib/python3.10/dist-packages (from jsonschema>=4.18.0->jupyterlab-server<3,>=2.3.0->voila) (0.35.1)\n",
            "Requirement already satisfied: rpds-py>=0.7.1 in /usr/local/lib/python3.10/dist-packages (from jsonschema>=4.18.0->jupyterlab-server<3,>=2.3.0->voila) (0.22.3)\n",
            "Requirement already satisfied: fastjsonschema>=2.15 in /usr/local/lib/python3.10/dist-packages (from nbformat>=5.2.0->jupyter-server<3,>=1.18->voila) (2.21.1)\n",
            "Requirement already satisfied: six>=1.5 in /usr/local/lib/python3.10/dist-packages (from python-dateutil>=2.8.2->jupyter-client<9,>=7.4.4->voila) (1.17.0)\n",
            "Requirement already satisfied: charset-normalizer<4,>=2 in /usr/local/lib/python3.10/dist-packages (from requests>=2.31->jupyterlab-server<3,>=2.3.0->voila) (3.4.0)\n",
            "Requirement already satisfied: urllib3<3,>=1.21.1 in /usr/local/lib/python3.10/dist-packages (from requests>=2.31->jupyterlab-server<3,>=2.3.0->voila) (2.2.3)\n",
            "Requirement already satisfied: certifi>=2017.4.17 in /usr/local/lib/python3.10/dist-packages (from requests>=2.31->jupyterlab-server<3,>=2.3.0->voila) (2024.12.14)\n",
            "Requirement already satisfied: ptyprocess in /usr/local/lib/python3.10/dist-packages (from terminado>=0.8.3->jupyter-server<3,>=1.18->voila) (0.7.0)\n",
            "Requirement already satisfied: argon2-cffi-bindings in /usr/local/lib/python3.10/dist-packages (from argon2-cffi->jupyter-server<3,>=1.18->voila) (21.2.0)\n",
            "Requirement already satisfied: soupsieve>1.2 in /usr/local/lib/python3.10/dist-packages (from beautifulsoup4->nbconvert<8,>=6.4.5->voila) (2.6)\n",
            "Requirement already satisfied: cffi>=1.0.1 in /usr/local/lib/python3.10/dist-packages (from argon2-cffi-bindings->argon2-cffi->jupyter-server<3,>=1.18->voila) (1.17.1)\n",
            "Requirement already satisfied: pycparser in /usr/local/lib/python3.10/dist-packages (from cffi>=1.0.1->argon2-cffi-bindings->argon2-cffi->jupyter-server<3,>=1.18->voila) (2.22)\n",
            "Enabling: voila\n",
            "- Writing config: /usr/etc/jupyter\n",
            "    - Validating...\n",
            "      voila 0.5.8 \u001b[32mOK\u001b[0m\n",
            "Collecting fastbook\n",
            "  Downloading fastbook-0.0.29-py3-none-any.whl.metadata (13 kB)\n",
            "Requirement already satisfied: pip in /usr/local/lib/python3.10/dist-packages (from fastbook) (24.1.2)\n",
            "Requirement already satisfied: packaging in /usr/local/lib/python3.10/dist-packages (from fastbook) (24.2)\n",
            "Requirement already satisfied: fastai>=2.6 in /usr/local/lib/python3.10/dist-packages (from fastbook) (2.7.18)\n",
            "Requirement already satisfied: graphviz in /usr/local/lib/python3.10/dist-packages (from fastbook) (0.20.3)\n",
            "Requirement already satisfied: pandas in /usr/local/lib/python3.10/dist-packages (from fastbook) (2.2.2)\n",
            "Requirement already satisfied: requests in /usr/local/lib/python3.10/dist-packages (from fastbook) (2.32.3)\n",
            "Requirement already satisfied: transformers in /usr/local/lib/python3.10/dist-packages (from fastbook) (4.47.1)\n",
            "Collecting datasets (from fastbook)\n",
            "  Downloading datasets-3.2.0-py3-none-any.whl.metadata (20 kB)\n",
            "Requirement already satisfied: ipywidgets<8 in /usr/local/lib/python3.10/dist-packages (from fastbook) (7.7.1)\n",
            "Requirement already satisfied: sentencepiece in /usr/local/lib/python3.10/dist-packages (from fastbook) (0.2.0)\n",
            "Requirement already satisfied: fastdownload<2,>=0.0.5 in /usr/local/lib/python3.10/dist-packages (from fastai>=2.6->fastbook) (0.0.7)\n",
            "Requirement already satisfied: fastcore<1.8,>=1.5.29 in /usr/local/lib/python3.10/dist-packages (from fastai>=2.6->fastbook) (1.7.27)\n",
            "Requirement already satisfied: torchvision>=0.11 in /usr/local/lib/python3.10/dist-packages (from fastai>=2.6->fastbook) (0.20.1+cu121)\n",
            "Requirement already satisfied: matplotlib in /usr/local/lib/python3.10/dist-packages (from fastai>=2.6->fastbook) (3.8.0)\n",
            "Requirement already satisfied: pyyaml in /usr/local/lib/python3.10/dist-packages (from fastai>=2.6->fastbook) (6.0.2)\n",
            "Requirement already satisfied: fastprogress>=0.2.4 in /usr/local/lib/python3.10/dist-packages (from fastai>=2.6->fastbook) (1.0.3)\n",
            "Requirement already satisfied: pillow>=9.0.0 in /usr/local/lib/python3.10/dist-packages (from fastai>=2.6->fastbook) (11.0.0)\n",
            "Requirement already satisfied: scikit-learn in /usr/local/lib/python3.10/dist-packages (from fastai>=2.6->fastbook) (1.6.0)\n",
            "Requirement already satisfied: scipy in /usr/local/lib/python3.10/dist-packages (from fastai>=2.6->fastbook) (1.13.1)\n",
            "Requirement already satisfied: spacy<4 in /usr/local/lib/python3.10/dist-packages (from fastai>=2.6->fastbook) (3.7.5)\n",
            "Requirement already satisfied: torch<2.6,>=1.10 in /usr/local/lib/python3.10/dist-packages (from fastai>=2.6->fastbook) (2.5.1+cu121)\n",
            "Requirement already satisfied: ipykernel>=4.5.1 in /usr/local/lib/python3.10/dist-packages (from ipywidgets<8->fastbook) (5.5.6)\n",
            "Requirement already satisfied: ipython-genutils~=0.2.0 in /usr/local/lib/python3.10/dist-packages (from ipywidgets<8->fastbook) (0.2.0)\n",
            "Requirement already satisfied: traitlets>=4.3.1 in /usr/local/lib/python3.10/dist-packages (from ipywidgets<8->fastbook) (5.7.1)\n",
            "Requirement already satisfied: widgetsnbextension~=3.6.0 in /usr/local/lib/python3.10/dist-packages (from ipywidgets<8->fastbook) (3.6.10)\n",
            "Requirement already satisfied: ipython>=4.0.0 in /usr/local/lib/python3.10/dist-packages (from ipywidgets<8->fastbook) (7.34.0)\n",
            "Requirement already satisfied: jupyterlab-widgets>=1.0.0 in /usr/local/lib/python3.10/dist-packages (from ipywidgets<8->fastbook) (3.0.13)\n",
            "Requirement already satisfied: filelock in /usr/local/lib/python3.10/dist-packages (from datasets->fastbook) (3.16.1)\n",
            "Requirement already satisfied: numpy>=1.17 in /usr/local/lib/python3.10/dist-packages (from datasets->fastbook) (1.26.4)\n",
            "Requirement already satisfied: pyarrow>=15.0.0 in /usr/local/lib/python3.10/dist-packages (from datasets->fastbook) (17.0.0)\n",
            "Collecting dill<0.3.9,>=0.3.0 (from datasets->fastbook)\n",
            "  Downloading dill-0.3.8-py3-none-any.whl.metadata (10 kB)\n",
            "Requirement already satisfied: tqdm>=4.66.3 in /usr/local/lib/python3.10/dist-packages (from datasets->fastbook) (4.67.1)\n",
            "Collecting xxhash (from datasets->fastbook)\n",
            "  Downloading xxhash-3.5.0-cp310-cp310-manylinux_2_17_x86_64.manylinux2014_x86_64.whl.metadata (12 kB)\n",
            "Collecting multiprocess<0.70.17 (from datasets->fastbook)\n",
            "  Downloading multiprocess-0.70.16-py310-none-any.whl.metadata (7.2 kB)\n",
            "Collecting fsspec<=2024.9.0,>=2023.1.0 (from fsspec[http]<=2024.9.0,>=2023.1.0->datasets->fastbook)\n",
            "  Downloading fsspec-2024.9.0-py3-none-any.whl.metadata (11 kB)\n",
            "Requirement already satisfied: aiohttp in /usr/local/lib/python3.10/dist-packages (from datasets->fastbook) (3.11.10)\n",
            "Requirement already satisfied: huggingface-hub>=0.23.0 in /usr/local/lib/python3.10/dist-packages (from datasets->fastbook) (0.27.0)\n",
            "Requirement already satisfied: charset-normalizer<4,>=2 in /usr/local/lib/python3.10/dist-packages (from requests->fastbook) (3.4.0)\n",
            "Requirement already satisfied: idna<4,>=2.5 in /usr/local/lib/python3.10/dist-packages (from requests->fastbook) (3.10)\n",
            "Requirement already satisfied: urllib3<3,>=1.21.1 in /usr/local/lib/python3.10/dist-packages (from requests->fastbook) (2.2.3)\n",
            "Requirement already satisfied: certifi>=2017.4.17 in /usr/local/lib/python3.10/dist-packages (from requests->fastbook) (2024.12.14)\n",
            "Requirement already satisfied: python-dateutil>=2.8.2 in /usr/local/lib/python3.10/dist-packages (from pandas->fastbook) (2.8.2)\n",
            "Requirement already satisfied: pytz>=2020.1 in /usr/local/lib/python3.10/dist-packages (from pandas->fastbook) (2024.2)\n",
            "Requirement already satisfied: tzdata>=2022.7 in /usr/local/lib/python3.10/dist-packages (from pandas->fastbook) (2024.2)\n",
            "Requirement already satisfied: regex!=2019.12.17 in /usr/local/lib/python3.10/dist-packages (from transformers->fastbook) (2024.11.6)\n",
            "Requirement already satisfied: tokenizers<0.22,>=0.21 in /usr/local/lib/python3.10/dist-packages (from transformers->fastbook) (0.21.0)\n",
            "Requirement already satisfied: safetensors>=0.4.1 in /usr/local/lib/python3.10/dist-packages (from transformers->fastbook) (0.4.5)\n",
            "Requirement already satisfied: aiohappyeyeballs>=2.3.0 in /usr/local/lib/python3.10/dist-packages (from aiohttp->datasets->fastbook) (2.4.4)\n",
            "Requirement already satisfied: aiosignal>=1.1.2 in /usr/local/lib/python3.10/dist-packages (from aiohttp->datasets->fastbook) (1.3.2)\n",
            "Requirement already satisfied: async-timeout<6.0,>=4.0 in /usr/local/lib/python3.10/dist-packages (from aiohttp->datasets->fastbook) (4.0.3)\n",
            "Requirement already satisfied: attrs>=17.3.0 in /usr/local/lib/python3.10/dist-packages (from aiohttp->datasets->fastbook) (24.3.0)\n",
            "Requirement already satisfied: frozenlist>=1.1.1 in /usr/local/lib/python3.10/dist-packages (from aiohttp->datasets->fastbook) (1.5.0)\n",
            "Requirement already satisfied: multidict<7.0,>=4.5 in /usr/local/lib/python3.10/dist-packages (from aiohttp->datasets->fastbook) (6.1.0)\n",
            "Requirement already satisfied: propcache>=0.2.0 in /usr/local/lib/python3.10/dist-packages (from aiohttp->datasets->fastbook) (0.2.1)\n",
            "Requirement already satisfied: yarl<2.0,>=1.17.0 in /usr/local/lib/python3.10/dist-packages (from aiohttp->datasets->fastbook) (1.18.3)\n",
            "Requirement already satisfied: typing-extensions>=3.7.4.3 in /usr/local/lib/python3.10/dist-packages (from huggingface-hub>=0.23.0->datasets->fastbook) (4.12.2)\n",
            "Requirement already satisfied: jupyter-client in /usr/local/lib/python3.10/dist-packages (from ipykernel>=4.5.1->ipywidgets<8->fastbook) (8.6.3)\n",
            "Requirement already satisfied: tornado>=4.2 in /usr/local/lib/python3.10/dist-packages (from ipykernel>=4.5.1->ipywidgets<8->fastbook) (6.3.3)\n",
            "Requirement already satisfied: setuptools>=18.5 in /usr/local/lib/python3.10/dist-packages (from ipython>=4.0.0->ipywidgets<8->fastbook) (75.1.0)\n",
            "Collecting jedi>=0.16 (from ipython>=4.0.0->ipywidgets<8->fastbook)\n",
            "  Downloading jedi-0.19.2-py2.py3-none-any.whl.metadata (22 kB)\n",
            "Requirement already satisfied: decorator in /usr/local/lib/python3.10/dist-packages (from ipython>=4.0.0->ipywidgets<8->fastbook) (4.4.2)\n",
            "Requirement already satisfied: pickleshare in /usr/local/lib/python3.10/dist-packages (from ipython>=4.0.0->ipywidgets<8->fastbook) (0.7.5)\n",
            "Requirement already satisfied: prompt-toolkit!=3.0.0,!=3.0.1,<3.1.0,>=2.0.0 in /usr/local/lib/python3.10/dist-packages (from ipython>=4.0.0->ipywidgets<8->fastbook) (3.0.48)\n",
            "Requirement already satisfied: pygments in /usr/local/lib/python3.10/dist-packages (from ipython>=4.0.0->ipywidgets<8->fastbook) (2.18.0)\n",
            "Requirement already satisfied: backcall in /usr/local/lib/python3.10/dist-packages (from ipython>=4.0.0->ipywidgets<8->fastbook) (0.2.0)\n",
            "Requirement already satisfied: matplotlib-inline in /usr/local/lib/python3.10/dist-packages (from ipython>=4.0.0->ipywidgets<8->fastbook) (0.1.7)\n",
            "Requirement already satisfied: pexpect>4.3 in /usr/local/lib/python3.10/dist-packages (from ipython>=4.0.0->ipywidgets<8->fastbook) (4.9.0)\n",
            "Requirement already satisfied: six>=1.5 in /usr/local/lib/python3.10/dist-packages (from python-dateutil>=2.8.2->pandas->fastbook) (1.17.0)\n",
            "Requirement already satisfied: spacy-legacy<3.1.0,>=3.0.11 in /usr/local/lib/python3.10/dist-packages (from spacy<4->fastai>=2.6->fastbook) (3.0.12)\n",
            "Requirement already satisfied: spacy-loggers<2.0.0,>=1.0.0 in /usr/local/lib/python3.10/dist-packages (from spacy<4->fastai>=2.6->fastbook) (1.0.5)\n",
            "Requirement already satisfied: murmurhash<1.1.0,>=0.28.0 in /usr/local/lib/python3.10/dist-packages (from spacy<4->fastai>=2.6->fastbook) (1.0.11)\n",
            "Requirement already satisfied: cymem<2.1.0,>=2.0.2 in /usr/local/lib/python3.10/dist-packages (from spacy<4->fastai>=2.6->fastbook) (2.0.10)\n",
            "Requirement already satisfied: preshed<3.1.0,>=3.0.2 in /usr/local/lib/python3.10/dist-packages (from spacy<4->fastai>=2.6->fastbook) (3.0.9)\n",
            "Requirement already satisfied: thinc<8.3.0,>=8.2.2 in /usr/local/lib/python3.10/dist-packages (from spacy<4->fastai>=2.6->fastbook) (8.2.5)\n",
            "Requirement already satisfied: wasabi<1.2.0,>=0.9.1 in /usr/local/lib/python3.10/dist-packages (from spacy<4->fastai>=2.6->fastbook) (1.1.3)\n",
            "Requirement already satisfied: srsly<3.0.0,>=2.4.3 in /usr/local/lib/python3.10/dist-packages (from spacy<4->fastai>=2.6->fastbook) (2.5.0)\n",
            "Requirement already satisfied: catalogue<2.1.0,>=2.0.6 in /usr/local/lib/python3.10/dist-packages (from spacy<4->fastai>=2.6->fastbook) (2.0.10)\n",
            "Requirement already satisfied: weasel<0.5.0,>=0.1.0 in /usr/local/lib/python3.10/dist-packages (from spacy<4->fastai>=2.6->fastbook) (0.4.1)\n",
            "Requirement already satisfied: typer<1.0.0,>=0.3.0 in /usr/local/lib/python3.10/dist-packages (from spacy<4->fastai>=2.6->fastbook) (0.15.1)\n",
            "Requirement already satisfied: pydantic!=1.8,!=1.8.1,<3.0.0,>=1.7.4 in /usr/local/lib/python3.10/dist-packages (from spacy<4->fastai>=2.6->fastbook) (2.10.3)\n",
            "Requirement already satisfied: jinja2 in /usr/local/lib/python3.10/dist-packages (from spacy<4->fastai>=2.6->fastbook) (3.1.4)\n",
            "Requirement already satisfied: langcodes<4.0.0,>=3.2.0 in /usr/local/lib/python3.10/dist-packages (from spacy<4->fastai>=2.6->fastbook) (3.5.0)\n",
            "Requirement already satisfied: networkx in /usr/local/lib/python3.10/dist-packages (from torch<2.6,>=1.10->fastai>=2.6->fastbook) (3.4.2)\n",
            "Requirement already satisfied: sympy==1.13.1 in /usr/local/lib/python3.10/dist-packages (from torch<2.6,>=1.10->fastai>=2.6->fastbook) (1.13.1)\n",
            "Requirement already satisfied: mpmath<1.4,>=1.1.0 in /usr/local/lib/python3.10/dist-packages (from sympy==1.13.1->torch<2.6,>=1.10->fastai>=2.6->fastbook) (1.3.0)\n",
            "Requirement already satisfied: notebook>=4.4.1 in /usr/local/lib/python3.10/dist-packages (from widgetsnbextension~=3.6.0->ipywidgets<8->fastbook) (6.5.5)\n",
            "Requirement already satisfied: contourpy>=1.0.1 in /usr/local/lib/python3.10/dist-packages (from matplotlib->fastai>=2.6->fastbook) (1.3.1)\n",
            "Requirement already satisfied: cycler>=0.10 in /usr/local/lib/python3.10/dist-packages (from matplotlib->fastai>=2.6->fastbook) (0.12.1)\n",
            "Requirement already satisfied: fonttools>=4.22.0 in /usr/local/lib/python3.10/dist-packages (from matplotlib->fastai>=2.6->fastbook) (4.55.3)\n",
            "Requirement already satisfied: kiwisolver>=1.0.1 in /usr/local/lib/python3.10/dist-packages (from matplotlib->fastai>=2.6->fastbook) (1.4.7)\n",
            "Requirement already satisfied: pyparsing>=2.3.1 in /usr/local/lib/python3.10/dist-packages (from matplotlib->fastai>=2.6->fastbook) (3.2.0)\n",
            "Requirement already satisfied: joblib>=1.2.0 in /usr/local/lib/python3.10/dist-packages (from scikit-learn->fastai>=2.6->fastbook) (1.4.2)\n",
            "Requirement already satisfied: threadpoolctl>=3.1.0 in /usr/local/lib/python3.10/dist-packages (from scikit-learn->fastai>=2.6->fastbook) (3.5.0)\n",
            "Requirement already satisfied: parso<0.9.0,>=0.8.4 in /usr/local/lib/python3.10/dist-packages (from jedi>=0.16->ipython>=4.0.0->ipywidgets<8->fastbook) (0.8.4)\n",
            "Requirement already satisfied: language-data>=1.2 in /usr/local/lib/python3.10/dist-packages (from langcodes<4.0.0,>=3.2.0->spacy<4->fastai>=2.6->fastbook) (1.3.0)\n",
            "Requirement already satisfied: pyzmq<25,>=17 in /usr/local/lib/python3.10/dist-packages (from notebook>=4.4.1->widgetsnbextension~=3.6.0->ipywidgets<8->fastbook) (24.0.1)\n",
            "Requirement already satisfied: argon2-cffi in /usr/local/lib/python3.10/dist-packages (from notebook>=4.4.1->widgetsnbextension~=3.6.0->ipywidgets<8->fastbook) (23.1.0)\n",
            "Requirement already satisfied: jupyter-core>=4.6.1 in /usr/local/lib/python3.10/dist-packages (from notebook>=4.4.1->widgetsnbextension~=3.6.0->ipywidgets<8->fastbook) (5.7.2)\n",
            "Collecting jupyter-client (from ipykernel>=4.5.1->ipywidgets<8->fastbook)\n",
            "  Downloading jupyter_client-7.4.9-py3-none-any.whl.metadata (8.5 kB)\n",
            "Requirement already satisfied: nbformat in /usr/local/lib/python3.10/dist-packages (from notebook>=4.4.1->widgetsnbextension~=3.6.0->ipywidgets<8->fastbook) (5.10.4)\n",
            "Requirement already satisfied: nbconvert>=5 in /usr/local/lib/python3.10/dist-packages (from notebook>=4.4.1->widgetsnbextension~=3.6.0->ipywidgets<8->fastbook) (7.16.4)\n",
            "Requirement already satisfied: nest-asyncio>=1.5 in /usr/local/lib/python3.10/dist-packages (from notebook>=4.4.1->widgetsnbextension~=3.6.0->ipywidgets<8->fastbook) (1.6.0)\n",
            "Requirement already satisfied: Send2Trash>=1.8.0 in /usr/local/lib/python3.10/dist-packages (from notebook>=4.4.1->widgetsnbextension~=3.6.0->ipywidgets<8->fastbook) (1.8.3)\n",
            "Requirement already satisfied: terminado>=0.8.3 in /usr/local/lib/python3.10/dist-packages (from notebook>=4.4.1->widgetsnbextension~=3.6.0->ipywidgets<8->fastbook) (0.18.1)\n",
            "Requirement already satisfied: prometheus-client in /usr/local/lib/python3.10/dist-packages (from notebook>=4.4.1->widgetsnbextension~=3.6.0->ipywidgets<8->fastbook) (0.21.1)\n",
            "Requirement already satisfied: nbclassic>=0.4.7 in /usr/local/lib/python3.10/dist-packages (from notebook>=4.4.1->widgetsnbextension~=3.6.0->ipywidgets<8->fastbook) (1.1.0)\n",
            "Requirement already satisfied: entrypoints in /usr/local/lib/python3.10/dist-packages (from jupyter-client->ipykernel>=4.5.1->ipywidgets<8->fastbook) (0.4)\n",
            "Requirement already satisfied: ptyprocess>=0.5 in /usr/local/lib/python3.10/dist-packages (from pexpect>4.3->ipython>=4.0.0->ipywidgets<8->fastbook) (0.7.0)\n",
            "Requirement already satisfied: wcwidth in /usr/local/lib/python3.10/dist-packages (from prompt-toolkit!=3.0.0,!=3.0.1,<3.1.0,>=2.0.0->ipython>=4.0.0->ipywidgets<8->fastbook) (0.2.13)\n",
            "Requirement already satisfied: annotated-types>=0.6.0 in /usr/local/lib/python3.10/dist-packages (from pydantic!=1.8,!=1.8.1,<3.0.0,>=1.7.4->spacy<4->fastai>=2.6->fastbook) (0.7.0)\n",
            "Requirement already satisfied: pydantic-core==2.27.1 in /usr/local/lib/python3.10/dist-packages (from pydantic!=1.8,!=1.8.1,<3.0.0,>=1.7.4->spacy<4->fastai>=2.6->fastbook) (2.27.1)\n",
            "Requirement already satisfied: blis<0.8.0,>=0.7.8 in /usr/local/lib/python3.10/dist-packages (from thinc<8.3.0,>=8.2.2->spacy<4->fastai>=2.6->fastbook) (0.7.11)\n",
            "Requirement already satisfied: confection<1.0.0,>=0.0.1 in /usr/local/lib/python3.10/dist-packages (from thinc<8.3.0,>=8.2.2->spacy<4->fastai>=2.6->fastbook) (0.1.5)\n",
            "Requirement already satisfied: click>=8.0.0 in /usr/local/lib/python3.10/dist-packages (from typer<1.0.0,>=0.3.0->spacy<4->fastai>=2.6->fastbook) (8.1.7)\n",
            "Requirement already satisfied: shellingham>=1.3.0 in /usr/local/lib/python3.10/dist-packages (from typer<1.0.0,>=0.3.0->spacy<4->fastai>=2.6->fastbook) (1.5.4)\n",
            "Requirement already satisfied: rich>=10.11.0 in /usr/local/lib/python3.10/dist-packages (from typer<1.0.0,>=0.3.0->spacy<4->fastai>=2.6->fastbook) (13.9.4)\n",
            "Requirement already satisfied: cloudpathlib<1.0.0,>=0.7.0 in /usr/local/lib/python3.10/dist-packages (from weasel<0.5.0,>=0.1.0->spacy<4->fastai>=2.6->fastbook) (0.20.0)\n",
            "Requirement already satisfied: smart-open<8.0.0,>=5.2.1 in /usr/local/lib/python3.10/dist-packages (from weasel<0.5.0,>=0.1.0->spacy<4->fastai>=2.6->fastbook) (7.1.0)\n",
            "Requirement already satisfied: MarkupSafe>=2.0 in /usr/local/lib/python3.10/dist-packages (from jinja2->spacy<4->fastai>=2.6->fastbook) (3.0.2)\n",
            "Requirement already satisfied: platformdirs>=2.5 in /usr/local/lib/python3.10/dist-packages (from jupyter-core>=4.6.1->notebook>=4.4.1->widgetsnbextension~=3.6.0->ipywidgets<8->fastbook) (4.3.6)\n",
            "Requirement already satisfied: marisa-trie>=1.1.0 in /usr/local/lib/python3.10/dist-packages (from language-data>=1.2->langcodes<4.0.0,>=3.2.0->spacy<4->fastai>=2.6->fastbook) (1.2.1)\n",
            "Requirement already satisfied: notebook-shim>=0.2.3 in /usr/local/lib/python3.10/dist-packages (from nbclassic>=0.4.7->notebook>=4.4.1->widgetsnbextension~=3.6.0->ipywidgets<8->fastbook) (0.2.4)\n",
            "Requirement already satisfied: beautifulsoup4 in /usr/local/lib/python3.10/dist-packages (from nbconvert>=5->notebook>=4.4.1->widgetsnbextension~=3.6.0->ipywidgets<8->fastbook) (4.12.3)\n",
            "Requirement already satisfied: bleach!=5.0.0 in /usr/local/lib/python3.10/dist-packages (from nbconvert>=5->notebook>=4.4.1->widgetsnbextension~=3.6.0->ipywidgets<8->fastbook) (6.2.0)\n",
            "Requirement already satisfied: defusedxml in /usr/local/lib/python3.10/dist-packages (from nbconvert>=5->notebook>=4.4.1->widgetsnbextension~=3.6.0->ipywidgets<8->fastbook) (0.7.1)\n",
            "Requirement already satisfied: jupyterlab-pygments in /usr/local/lib/python3.10/dist-packages (from nbconvert>=5->notebook>=4.4.1->widgetsnbextension~=3.6.0->ipywidgets<8->fastbook) (0.3.0)\n",
            "Requirement already satisfied: mistune<4,>=2.0.3 in /usr/local/lib/python3.10/dist-packages (from nbconvert>=5->notebook>=4.4.1->widgetsnbextension~=3.6.0->ipywidgets<8->fastbook) (3.0.2)\n",
            "Requirement already satisfied: nbclient>=0.5.0 in /usr/local/lib/python3.10/dist-packages (from nbconvert>=5->notebook>=4.4.1->widgetsnbextension~=3.6.0->ipywidgets<8->fastbook) (0.10.1)\n",
            "Requirement already satisfied: pandocfilters>=1.4.1 in /usr/local/lib/python3.10/dist-packages (from nbconvert>=5->notebook>=4.4.1->widgetsnbextension~=3.6.0->ipywidgets<8->fastbook) (1.5.1)\n",
            "Requirement already satisfied: tinycss2 in /usr/local/lib/python3.10/dist-packages (from nbconvert>=5->notebook>=4.4.1->widgetsnbextension~=3.6.0->ipywidgets<8->fastbook) (1.4.0)\n",
            "Requirement already satisfied: fastjsonschema>=2.15 in /usr/local/lib/python3.10/dist-packages (from nbformat->notebook>=4.4.1->widgetsnbextension~=3.6.0->ipywidgets<8->fastbook) (2.21.1)\n",
            "Requirement already satisfied: jsonschema>=2.6 in /usr/local/lib/python3.10/dist-packages (from nbformat->notebook>=4.4.1->widgetsnbextension~=3.6.0->ipywidgets<8->fastbook) (4.23.0)\n",
            "Requirement already satisfied: markdown-it-py>=2.2.0 in /usr/local/lib/python3.10/dist-packages (from rich>=10.11.0->typer<1.0.0,>=0.3.0->spacy<4->fastai>=2.6->fastbook) (3.0.0)\n",
            "Requirement already satisfied: wrapt in /usr/local/lib/python3.10/dist-packages (from smart-open<8.0.0,>=5.2.1->weasel<0.5.0,>=0.1.0->spacy<4->fastai>=2.6->fastbook) (1.17.0)\n",
            "Requirement already satisfied: argon2-cffi-bindings in /usr/local/lib/python3.10/dist-packages (from argon2-cffi->notebook>=4.4.1->widgetsnbextension~=3.6.0->ipywidgets<8->fastbook) (21.2.0)\n",
            "Requirement already satisfied: webencodings in /usr/local/lib/python3.10/dist-packages (from bleach!=5.0.0->nbconvert>=5->notebook>=4.4.1->widgetsnbextension~=3.6.0->ipywidgets<8->fastbook) (0.5.1)\n",
            "Requirement already satisfied: jsonschema-specifications>=2023.03.6 in /usr/local/lib/python3.10/dist-packages (from jsonschema>=2.6->nbformat->notebook>=4.4.1->widgetsnbextension~=3.6.0->ipywidgets<8->fastbook) (2024.10.1)\n",
            "Requirement already satisfied: referencing>=0.28.4 in /usr/local/lib/python3.10/dist-packages (from jsonschema>=2.6->nbformat->notebook>=4.4.1->widgetsnbextension~=3.6.0->ipywidgets<8->fastbook) (0.35.1)\n",
            "Requirement already satisfied: rpds-py>=0.7.1 in /usr/local/lib/python3.10/dist-packages (from jsonschema>=2.6->nbformat->notebook>=4.4.1->widgetsnbextension~=3.6.0->ipywidgets<8->fastbook) (0.22.3)\n",
            "Requirement already satisfied: mdurl~=0.1 in /usr/local/lib/python3.10/dist-packages (from markdown-it-py>=2.2.0->rich>=10.11.0->typer<1.0.0,>=0.3.0->spacy<4->fastai>=2.6->fastbook) (0.1.2)\n",
            "Requirement already satisfied: jupyter-server<3,>=1.8 in /usr/local/lib/python3.10/dist-packages (from notebook-shim>=0.2.3->nbclassic>=0.4.7->notebook>=4.4.1->widgetsnbextension~=3.6.0->ipywidgets<8->fastbook) (1.24.0)\n",
            "Requirement already satisfied: cffi>=1.0.1 in /usr/local/lib/python3.10/dist-packages (from argon2-cffi-bindings->argon2-cffi->notebook>=4.4.1->widgetsnbextension~=3.6.0->ipywidgets<8->fastbook) (1.17.1)\n",
            "Requirement already satisfied: soupsieve>1.2 in /usr/local/lib/python3.10/dist-packages (from beautifulsoup4->nbconvert>=5->notebook>=4.4.1->widgetsnbextension~=3.6.0->ipywidgets<8->fastbook) (2.6)\n",
            "Requirement already satisfied: pycparser in /usr/local/lib/python3.10/dist-packages (from cffi>=1.0.1->argon2-cffi-bindings->argon2-cffi->notebook>=4.4.1->widgetsnbextension~=3.6.0->ipywidgets<8->fastbook) (2.22)\n",
            "Requirement already satisfied: anyio<4,>=3.1.0 in /usr/local/lib/python3.10/dist-packages (from jupyter-server<3,>=1.8->notebook-shim>=0.2.3->nbclassic>=0.4.7->notebook>=4.4.1->widgetsnbextension~=3.6.0->ipywidgets<8->fastbook) (3.7.1)\n",
            "Requirement already satisfied: websocket-client in /usr/local/lib/python3.10/dist-packages (from jupyter-server<3,>=1.8->notebook-shim>=0.2.3->nbclassic>=0.4.7->notebook>=4.4.1->widgetsnbextension~=3.6.0->ipywidgets<8->fastbook) (1.8.0)\n",
            "Requirement already satisfied: sniffio>=1.1 in /usr/local/lib/python3.10/dist-packages (from anyio<4,>=3.1.0->jupyter-server<3,>=1.8->notebook-shim>=0.2.3->nbclassic>=0.4.7->notebook>=4.4.1->widgetsnbextension~=3.6.0->ipywidgets<8->fastbook) (1.3.1)\n",
            "Requirement already satisfied: exceptiongroup in /usr/local/lib/python3.10/dist-packages (from anyio<4,>=3.1.0->jupyter-server<3,>=1.8->notebook-shim>=0.2.3->nbclassic>=0.4.7->notebook>=4.4.1->widgetsnbextension~=3.6.0->ipywidgets<8->fastbook) (1.2.2)\n",
            "Downloading fastbook-0.0.29-py3-none-any.whl (719 kB)\n",
            "\u001b[2K   \u001b[90m━━━━━━━━━━━━━━━━━━━━━━━━━━━━━━━━━━━━━━━━\u001b[0m \u001b[32m719.8/719.8 kB\u001b[0m \u001b[31m15.7 MB/s\u001b[0m eta \u001b[36m0:00:00\u001b[0m\n",
            "\u001b[?25hDownloading datasets-3.2.0-py3-none-any.whl (480 kB)\n",
            "\u001b[2K   \u001b[90m━━━━━━━━━━━━━━━━━━━━━━━━━━━━━━━━━━━━━━━━\u001b[0m \u001b[32m480.6/480.6 kB\u001b[0m \u001b[31m27.3 MB/s\u001b[0m eta \u001b[36m0:00:00\u001b[0m\n",
            "\u001b[?25hDownloading dill-0.3.8-py3-none-any.whl (116 kB)\n",
            "\u001b[2K   \u001b[90m━━━━━━━━━━━━━━━━━━━━━━━━━━━━━━━━━━━━━━━━\u001b[0m \u001b[32m116.3/116.3 kB\u001b[0m \u001b[31m8.2 MB/s\u001b[0m eta \u001b[36m0:00:00\u001b[0m\n",
            "\u001b[?25hDownloading fsspec-2024.9.0-py3-none-any.whl (179 kB)\n",
            "\u001b[2K   \u001b[90m━━━━━━━━━━━━━━━━━━━━━━━━━━━━━━━━━━━━━━━━\u001b[0m \u001b[32m179.3/179.3 kB\u001b[0m \u001b[31m12.3 MB/s\u001b[0m eta \u001b[36m0:00:00\u001b[0m\n",
            "\u001b[?25hDownloading multiprocess-0.70.16-py310-none-any.whl (134 kB)\n",
            "\u001b[2K   \u001b[90m━━━━━━━━━━━━━━━━━━━━━━━━━━━━━━━━━━━━━━━━\u001b[0m \u001b[32m134.8/134.8 kB\u001b[0m \u001b[31m11.0 MB/s\u001b[0m eta \u001b[36m0:00:00\u001b[0m\n",
            "\u001b[?25hDownloading xxhash-3.5.0-cp310-cp310-manylinux_2_17_x86_64.manylinux2014_x86_64.whl (194 kB)\n",
            "\u001b[2K   \u001b[90m━━━━━━━━━━━━━━━━━━━━━━━━━━━━━━━━━━━━━━━━\u001b[0m \u001b[32m194.1/194.1 kB\u001b[0m \u001b[31m14.7 MB/s\u001b[0m eta \u001b[36m0:00:00\u001b[0m\n",
            "\u001b[?25hDownloading jedi-0.19.2-py2.py3-none-any.whl (1.6 MB)\n",
            "\u001b[2K   \u001b[90m━━━━━━━━━━━━━━━━━━━━━━━━━━━━━━━━━━━━━━━━\u001b[0m \u001b[32m1.6/1.6 MB\u001b[0m \u001b[31m49.3 MB/s\u001b[0m eta \u001b[36m0:00:00\u001b[0m\n",
            "\u001b[?25hDownloading jupyter_client-7.4.9-py3-none-any.whl (133 kB)\n",
            "\u001b[2K   \u001b[90m━━━━━━━━━━━━━━━━━━━━━━━━━━━━━━━━━━━━━━━━\u001b[0m \u001b[32m133.5/133.5 kB\u001b[0m \u001b[31m9.2 MB/s\u001b[0m eta \u001b[36m0:00:00\u001b[0m\n",
            "\u001b[?25hInstalling collected packages: xxhash, jedi, fsspec, dill, multiprocess, jupyter-client, datasets, fastbook\n",
            "  Attempting uninstall: fsspec\n",
            "    Found existing installation: fsspec 2024.10.0\n",
            "    Uninstalling fsspec-2024.10.0:\n",
            "      Successfully uninstalled fsspec-2024.10.0\n",
            "  Attempting uninstall: jupyter-client\n",
            "    Found existing installation: jupyter_client 8.6.3\n",
            "    Uninstalling jupyter_client-8.6.3:\n",
            "      Successfully uninstalled jupyter_client-8.6.3\n",
            "\u001b[31mERROR: pip's dependency resolver does not currently take into account all the packages that are installed. This behaviour is the source of the following dependency conflicts.\n",
            "gcsfs 2024.10.0 requires fsspec==2024.10.0, but you have fsspec 2024.9.0 which is incompatible.\u001b[0m\u001b[31m\n",
            "\u001b[0mSuccessfully installed datasets-3.2.0 dill-0.3.8 fastbook-0.0.29 fsspec-2024.9.0 jedi-0.19.2 jupyter-client-7.4.9 multiprocess-0.70.16 xxhash-3.5.0\n"
          ]
        }
      ],
      "source": [
        "!pip install voila\n",
        "!jupyter serverextension enable --sys-prefix voila\n",
        "!pip install fastbook"
      ]
    },
    {
      "cell_type": "code",
      "source": [
        "import fastai\n",
        "import matplotlib.pyplot as plt\n",
        "import fastbook\n",
        "from fastbook import *\n",
        "from fastai.vision.widgets import *\n",
        "from google.colab import drive"
      ],
      "metadata": {
        "id": "JimdTpLtrxT5"
      },
      "execution_count": 9,
      "outputs": []
    },
    {
      "cell_type": "code",
      "source": [
        "# Create your lerner\n",
        "learn_inf = load_learner('/content/export.pkl')"
      ],
      "metadata": {
        "id": "95h5Mdi_pYfr"
      },
      "execution_count": 10,
      "outputs": []
    },
    {
      "cell_type": "code",
      "source": [
        "# visualize image (also with a widget)\n",
        "out_pl = widgets.Output()\n",
        "out_pl.clear_output()\n",
        "with out_pl: display(img.to_thumb(128,128))"
      ],
      "metadata": {
        "id": "p5UkaMkWs7j4"
      },
      "execution_count": 21,
      "outputs": []
    },
    {
      "cell_type": "code",
      "source": [
        "# run your prediction\n",
        "pred,pred_idx,probs = learn_inf.predict(img)\n",
        "\n",
        "# set how to present the results\n",
        "lbl_pred = widgets.Label()\n",
        "lbl_pred.value = f'Prediction: {pred}; Probability: {probs[pred_idx]:.04f}'"
      ],
      "metadata": {
        "colab": {
          "base_uri": "https://localhost:8080/",
          "height": 184
        },
        "id": "Jh73yFRds_MC",
        "outputId": "92a23351-0026-4aec-e681-473a2537eb5a"
      },
      "execution_count": 23,
      "outputs": [
        {
          "output_type": "error",
          "ename": "NameError",
          "evalue": "name 'pred' is not defined",
          "traceback": [
            "\u001b[0;31m---------------------------------------------------------------------------\u001b[0m",
            "\u001b[0;31mNameError\u001b[0m                                 Traceback (most recent call last)",
            "\u001b[0;32m<ipython-input-23-5a03991b908a>\u001b[0m in \u001b[0;36m<cell line: 6>\u001b[0;34m()\u001b[0m\n\u001b[1;32m      4\u001b[0m \u001b[0;31m# set how to present the results\u001b[0m\u001b[0;34m\u001b[0m\u001b[0;34m\u001b[0m\u001b[0m\n\u001b[1;32m      5\u001b[0m \u001b[0mlbl_pred\u001b[0m \u001b[0;34m=\u001b[0m \u001b[0mwidgets\u001b[0m\u001b[0;34m.\u001b[0m\u001b[0mLabel\u001b[0m\u001b[0;34m(\u001b[0m\u001b[0;34m)\u001b[0m\u001b[0;34m\u001b[0m\u001b[0;34m\u001b[0m\u001b[0m\n\u001b[0;32m----> 6\u001b[0;31m \u001b[0mlbl_pred\u001b[0m\u001b[0;34m.\u001b[0m\u001b[0mvalue\u001b[0m \u001b[0;34m=\u001b[0m \u001b[0;34mf'Prediction: {pred}; Probability: {probs[pred_idx]:.04f}'\u001b[0m\u001b[0;34m\u001b[0m\u001b[0;34m\u001b[0m\u001b[0m\n\u001b[0m",
            "\u001b[0;31mNameError\u001b[0m: name 'pred' is not defined"
          ]
        }
      ]
    },
    {
      "cell_type": "code",
      "source": [
        "# create a classify button\n",
        "btn_run = widgets.Button(description='Classify')\n",
        "btn_run"
      ],
      "metadata": {
        "colab": {
          "base_uri": "https://localhost:8080/",
          "height": 49,
          "referenced_widgets": [
            "e0aad968dee4423ca3c50367930673c0",
            "553d730332ae4410846160074384203a",
            "affcfcc42eae403d8e25d1b9f6e97c65"
          ]
        },
        "id": "Wilu2RLDskGx",
        "outputId": "8d23cb1b-bd8f-4dff-bf2c-97dead486efc"
      },
      "execution_count": 13,
      "outputs": [
        {
          "output_type": "display_data",
          "data": {
            "text/plain": [
              "Button(description='Classify', style=ButtonStyle())"
            ],
            "application/vnd.jupyter.widget-view+json": {
              "version_major": 2,
              "version_minor": 0,
              "model_id": "e0aad968dee4423ca3c50367930673c0"
            }
          },
          "metadata": {}
        }
      ]
    },
    {
      "cell_type": "code",
      "source": [
        "# event handler: function that will be called when button is pressed\n",
        "def on_click_classify(change):\n",
        "    img = PILImage.create(btn_upload.data[-1])\n",
        "    out_pl.clear_output()\n",
        "    with out_pl: display(img.to_thumb(128,128))\n",
        "    pred,pred_idx,probs = learn_inf.predict(img)\n",
        "    lbl_pred.value = f'Prediction: {pred}; Probability: {probs[pred_idx]:.04f}'\n",
        "\n",
        "btn_run.on_click(on_click_classify)"
      ],
      "metadata": {
        "id": "FJOyi3t9smGF"
      },
      "execution_count": 14,
      "outputs": []
    },
    {
      "cell_type": "code",
      "source": [
        "#Putting back btn_upload to a widget for next cell\n",
        "btn_upload = widgets.FileUpload()"
      ],
      "metadata": {
        "id": "PWx09mNwswnV"
      },
      "execution_count": 15,
      "outputs": []
    },
    {
      "cell_type": "code",
      "source": [
        "# put the entire app together\n",
        "VBox([widgets.Label('Select your bear!'),\n",
        "      btn_upload, btn_run, out_pl, lbl_pred])"
      ],
      "metadata": {
        "colab": {
          "base_uri": "https://localhost:8080/",
          "height": 273,
          "referenced_widgets": [
            "15ee99a885d3414eb4ce3bef1a0538cf",
            "d3aea3ed4b354cc0b945a0e939585a1f",
            "21a8620741b9475687abdfbc5fb06784",
            "e0aad968dee4423ca3c50367930673c0",
            "8744937d524b496980697cbfd37f01c7",
            "949df5e1ddd94381a3426bfd25c87b01",
            "fa8a03eef3c64bfab81035694c859732",
            "3367106bfcde491fb8b7d1b4e903b0e7",
            "a62ffe9b406e47759672481a947b8905",
            "c63c92a9ef0e419ebb26d276696a9eb0",
            "5dd52879a6ed4791a8017744c41ae5a6",
            "553d730332ae4410846160074384203a",
            "affcfcc42eae403d8e25d1b9f6e97c65",
            "c509fc1dc2784425837fa2aa95fe7881",
            "cf2cd8c7c2884935a514eef2681d7e21",
            "89e17cbbda98426082e790a4dd9e5570"
          ]
        },
        "id": "YizaRBKDsy3D",
        "outputId": "5fb6201c-18e2-498e-dcf4-73ef83e1070d"
      },
      "execution_count": 24,
      "outputs": [
        {
          "output_type": "display_data",
          "data": {
            "text/plain": [
              "VBox(children=(Label(value='Select your bear!'), FileUpload(value={}, description='Upload'), Button(descriptio…"
            ],
            "application/vnd.jupyter.widget-view+json": {
              "version_major": 2,
              "version_minor": 0,
              "model_id": "15ee99a885d3414eb4ce3bef1a0538cf"
            }
          },
          "metadata": {}
        },
        {
          "output_type": "display_data",
          "data": {
            "text/plain": [
              "<IPython.core.display.HTML object>"
            ],
            "text/html": [
              "\n",
              "<style>\n",
              "    /* Turns off some styling */\n",
              "    progress {\n",
              "        /* gets rid of default border in Firefox and Opera. */\n",
              "        border: none;\n",
              "        /* Needs to be in here for Safari polyfill so background images work as expected. */\n",
              "        background-size: auto;\n",
              "    }\n",
              "    progress:not([value]), progress:not([value])::-webkit-progress-bar {\n",
              "        background: repeating-linear-gradient(45deg, #7e7e7e, #7e7e7e 10px, #5c5c5c 10px, #5c5c5c 20px);\n",
              "    }\n",
              "    .progress-bar-interrupted, .progress-bar-interrupted::-webkit-progress-bar {\n",
              "        background: #F44336;\n",
              "    }\n",
              "</style>\n"
            ]
          },
          "metadata": {}
        },
        {
          "output_type": "display_data",
          "data": {
            "text/plain": [
              "<IPython.core.display.HTML object>"
            ],
            "text/html": []
          },
          "metadata": {}
        }
      ]
    },
    {
      "cell_type": "code",
      "source": [],
      "metadata": {
        "id": "Qyfma1hls1Fb"
      },
      "execution_count": null,
      "outputs": []
    }
  ]
}